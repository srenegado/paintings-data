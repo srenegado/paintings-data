{
 "cells": [
  {
   "cell_type": "markdown",
   "id": "9bded8f9-f457-4401-9678-c21a019c048d",
   "metadata": {},
   "source": [
    "# Exploratory data analysis"
   ]
  },
  {
   "cell_type": "code",
   "execution_count": 1,
   "id": "44292bc5-e0e2-482a-8911-986f7eff29af",
   "metadata": {},
   "outputs": [],
   "source": [
    "import pandas as pd\n",
    "import numpy as np"
   ]
  },
  {
   "cell_type": "code",
   "execution_count": 2,
   "id": "70c5b69d-a65f-4687-a4b8-c20dd046d63b",
   "metadata": {},
   "outputs": [],
   "source": [
    "# Get dataframes from csvs\n",
    "artist = pd.read_csv(\"artist.csv\")\n",
    "work = pd.read_csv(\"work.csv\")\n",
    "subject = pd.read_csv(\"subject.csv\")\n",
    "museum = pd.read_csv(\"museum.csv\")\n",
    "museum_hours = pd.read_csv(\"museum_hours.csv\")\n",
    "product_size = pd.read_csv(\"product_size.csv\")\n",
    "canvas_size = pd.read_csv(\"canvas_size.csv\")"
   ]
  },
  {
   "cell_type": "markdown",
   "id": "8aaa46cd-ad79-4978-b3b4-97ebd130b2a6",
   "metadata": {},
   "source": [
    "## Primary key\n",
    "Checking the primary key for each data set. What is the primary key's data type? Is it unique? Are there any null values?"
   ]
  },
  {
   "cell_type": "markdown",
   "id": "8c670937-e702-4ba7-a9e2-6169dc9c654a",
   "metadata": {},
   "source": [
    "Checking **artist** DataFrame:"
   ]
  },
  {
   "cell_type": "code",
   "execution_count": 3,
   "id": "241df426-d193-4126-9894-a940addd280e",
   "metadata": {},
   "outputs": [
    {
     "data": {
      "text/plain": [
       "0      500\n",
       "1      501\n",
       "2      502\n",
       "3      503\n",
       "4      504\n",
       "      ... \n",
       "416    916\n",
       "417    917\n",
       "418    918\n",
       "419    919\n",
       "420    920\n",
       "Name: artist_id, Length: 421, dtype: int64"
      ]
     },
     "execution_count": 3,
     "metadata": {},
     "output_type": "execute_result"
    }
   ],
   "source": [
    "artist[\"artist_id\"]"
   ]
  },
  {
   "cell_type": "code",
   "execution_count": 4,
   "id": "12f17c57-ed6a-4acc-a4b7-bdda0146c2e0",
   "metadata": {},
   "outputs": [
    {
     "name": "stdout",
     "output_type": "stream",
     "text": [
      "Actual count: 421\n",
      "Expected count: 421\n"
     ]
    }
   ],
   "source": [
    "print(f\"Actual count: {artist['artist_id'].count()}\") \n",
    "print(f\"Expected count: {artist['artist_id'].drop_duplicates().count()}\")"
   ]
  },
  {
   "cell_type": "code",
   "execution_count": 5,
   "id": "521f8f8d-4671-4389-b341-d949ddab4e98",
   "metadata": {},
   "outputs": [
    {
     "data": {
      "text/plain": [
       "artist_id       0\n",
       "full_name       0\n",
       "first_name      0\n",
       "middle_names    0\n",
       "last_name       0\n",
       "nationality     0\n",
       "style           0\n",
       "birth           0\n",
       "death           0\n",
       "dtype: int64"
      ]
     },
     "execution_count": 5,
     "metadata": {},
     "output_type": "execute_result"
    }
   ],
   "source": [
    "artist[artist[\"artist_id\"].isnull()].count()"
   ]
  },
  {
   "cell_type": "markdown",
   "id": "b5d0bfdd-3d1a-4ded-9d76-2170691cc33d",
   "metadata": {},
   "source": [
    "Checking **work** DataFrame:"
   ]
  },
  {
   "cell_type": "code",
   "execution_count": 6,
   "id": "b9eac094-db64-4386-8361-cb013d0c59dd",
   "metadata": {},
   "outputs": [
    {
     "data": {
      "text/plain": [
       "0        160228\n",
       "1        160236\n",
       "2        160244\n",
       "3        160252\n",
       "4        160260\n",
       "          ...  \n",
       "14771      8279\n",
       "14772      8283\n",
       "14773      8285\n",
       "14774    184820\n",
       "14775    184829\n",
       "Name: work_id, Length: 14776, dtype: int64"
      ]
     },
     "execution_count": 6,
     "metadata": {},
     "output_type": "execute_result"
    }
   ],
   "source": [
    "work[\"work_id\"]"
   ]
  },
  {
   "cell_type": "code",
   "execution_count": 7,
   "id": "7801abc4-d1fa-49fc-987b-b763de142f95",
   "metadata": {},
   "outputs": [
    {
     "name": "stdout",
     "output_type": "stream",
     "text": [
      "Actual count: 14776\n",
      "Expected count: 14716\n"
     ]
    }
   ],
   "source": [
    "print(f\"Actual count: {work['work_id'].count()}\") \n",
    "print(f\"Expected count: {work['work_id'].drop_duplicates().count()}\")"
   ]
  },
  {
   "cell_type": "code",
   "execution_count": 8,
   "id": "bbd9fec9-b921-4f51-8358-c664bd6ff9a6",
   "metadata": {},
   "outputs": [
    {
     "data": {
      "text/plain": [
       "work_id      0\n",
       "name         0\n",
       "artist_id    0\n",
       "style        0\n",
       "museum_id    0\n",
       "dtype: int64"
      ]
     },
     "execution_count": 8,
     "metadata": {},
     "output_type": "execute_result"
    }
   ],
   "source": [
    "work[work['work_id'].isnull()].count()"
   ]
  },
  {
   "cell_type": "markdown",
   "id": "a7efd0a7-c957-49b4-9e13-5641e4f60be3",
   "metadata": {},
   "source": [
    "Checking **museum** DataFrame:"
   ]
  },
  {
   "cell_type": "code",
   "execution_count": 9,
   "id": "1a74ea76-3e03-4638-947f-45f8abb30a39",
   "metadata": {},
   "outputs": [
    {
     "data": {
      "text/plain": [
       "0     30\n",
       "1     31\n",
       "2     32\n",
       "3     33\n",
       "4     34\n",
       "5     35\n",
       "6     36\n",
       "7     37\n",
       "8     38\n",
       "9     39\n",
       "10    40\n",
       "11    41\n",
       "12    42\n",
       "13    43\n",
       "14    44\n",
       "15    45\n",
       "16    46\n",
       "17    47\n",
       "18    48\n",
       "19    49\n",
       "20    50\n",
       "21    51\n",
       "22    52\n",
       "23    53\n",
       "24    54\n",
       "25    55\n",
       "26    56\n",
       "27    57\n",
       "28    58\n",
       "29    59\n",
       "30    60\n",
       "31    61\n",
       "32    62\n",
       "33    63\n",
       "34    64\n",
       "35    65\n",
       "36    66\n",
       "37    67\n",
       "38    68\n",
       "39    69\n",
       "40    70\n",
       "41    71\n",
       "42    72\n",
       "43    73\n",
       "44    74\n",
       "45    75\n",
       "46    76\n",
       "47    77\n",
       "48    78\n",
       "49    79\n",
       "50    80\n",
       "51    81\n",
       "52    82\n",
       "53    83\n",
       "54    84\n",
       "55    85\n",
       "56    86\n",
       "Name: museum_id, dtype: int64"
      ]
     },
     "execution_count": 9,
     "metadata": {},
     "output_type": "execute_result"
    }
   ],
   "source": [
    "museum['museum_id']"
   ]
  },
  {
   "cell_type": "code",
   "execution_count": 10,
   "id": "117aded9-fa84-4812-8295-bd5f11e4d818",
   "metadata": {},
   "outputs": [
    {
     "name": "stdout",
     "output_type": "stream",
     "text": [
      "Actual count: 57\n",
      "Expected count: 57\n"
     ]
    }
   ],
   "source": [
    "print(f\"Actual count: {museum['museum_id'].count()}\") \n",
    "print(f\"Expected count: {museum['museum_id'].drop_duplicates().count()}\")"
   ]
  },
  {
   "cell_type": "code",
   "execution_count": 11,
   "id": "12eb6677-1558-404c-8047-8fd5b91a2c1f",
   "metadata": {
    "scrolled": true
   },
   "outputs": [
    {
     "data": {
      "text/plain": [
       "museum_id    0\n",
       "name         0\n",
       "address      0\n",
       "city         0\n",
       "state        0\n",
       "postal       0\n",
       "country      0\n",
       "phone        0\n",
       "url          0\n",
       "dtype: int64"
      ]
     },
     "execution_count": 11,
     "metadata": {},
     "output_type": "execute_result"
    }
   ],
   "source": [
    "museum[museum['museum_id'].isnull()].count()"
   ]
  },
  {
   "cell_type": "markdown",
   "id": "19b35141-23d2-4d2b-ac05-c57455258db1",
   "metadata": {},
   "source": [
    "Checking **canvas_size** DataFrame:"
   ]
  },
  {
   "cell_type": "code",
   "execution_count": 12,
   "id": "98dc699d-77f9-4a65-a6df-6e9cf974e89a",
   "metadata": {},
   "outputs": [
    {
     "data": {
      "text/plain": [
       "0        20\n",
       "1        24\n",
       "2        30\n",
       "3        36\n",
       "4        40\n",
       "       ... \n",
       "195    7963\n",
       "196    8040\n",
       "197    8051\n",
       "198    8959\n",
       "199    9648\n",
       "Name: size_id, Length: 200, dtype: int64"
      ]
     },
     "execution_count": 12,
     "metadata": {},
     "output_type": "execute_result"
    }
   ],
   "source": [
    "canvas_size['size_id']"
   ]
  },
  {
   "cell_type": "code",
   "execution_count": 13,
   "id": "c9a95192-95d8-4abd-8fed-1c99703a2ac8",
   "metadata": {},
   "outputs": [
    {
     "name": "stdout",
     "output_type": "stream",
     "text": [
      "Actual count: 200\n",
      "Expected count: 200\n"
     ]
    }
   ],
   "source": [
    "print(f\"Actual count: {canvas_size['size_id'].count()}\") \n",
    "print(f\"Expected count: {canvas_size['size_id'].drop_duplicates().count()}\")"
   ]
  },
  {
   "cell_type": "code",
   "execution_count": 14,
   "id": "744b4cea-05b2-4713-9441-8d37dda911c3",
   "metadata": {
    "scrolled": true
   },
   "outputs": [
    {
     "data": {
      "text/plain": [
       "size_id    0\n",
       "width      0\n",
       "height     0\n",
       "label      0\n",
       "dtype: int64"
      ]
     },
     "execution_count": 14,
     "metadata": {},
     "output_type": "execute_result"
    }
   ],
   "source": [
    "canvas_size[canvas_size['size_id'].isnull()].count()"
   ]
  },
  {
   "cell_type": "markdown",
   "id": "5937a8fc-7f0d-43ce-a01e-be5228fae7c3",
   "metadata": {},
   "source": [
    "Checking **product_size** DataFrame:"
   ]
  },
  {
   "cell_type": "code",
   "execution_count": 15,
   "id": "b8b50dd0-0c2e-4c63-b468-fad4ce1531c3",
   "metadata": {},
   "outputs": [
    {
     "data": {
      "text/plain": [
       "(0         160228\n",
       " 1         160228\n",
       " 2         160236\n",
       " 3         160236\n",
       " 4         160244\n",
       "            ...  \n",
       " 110342    184829\n",
       " 110343    184829\n",
       " 110344    184829\n",
       " 110345    184829\n",
       " 110346    184829\n",
       " Name: work_id, Length: 110347, dtype: int64,\n",
       " 0           24\n",
       " 1           30\n",
       " 2           24\n",
       " 3           30\n",
       " 4           24\n",
       "           ... \n",
       " 110342    3030\n",
       " 110343    3636\n",
       " 110344    4040\n",
       " 110345    4848\n",
       " 110346    6060\n",
       " Name: size_id, Length: 110347, dtype: object)"
      ]
     },
     "execution_count": 15,
     "metadata": {},
     "output_type": "execute_result"
    }
   ],
   "source": [
    "product_size['work_id'], product_size['size_id']"
   ]
  },
  {
   "cell_type": "code",
   "execution_count": 16,
   "id": "aa85d151-5639-47a0-9d7b-99e212f9755b",
   "metadata": {},
   "outputs": [
    {
     "data": {
      "text/plain": [
       "(        work_id size_id  sale_price  regular_price\n",
       " 3858       6933  16.223         255            425\n",
       " 3888       6937  28.836         335            585\n",
       " 4424      25597  39.532         375            675\n",
       " 7091       6024  3628.7         335            595\n",
       " 7141       6034  32.226         285            495\n",
       " ...         ...     ...         ...            ...\n",
       " 107508      889  26.332         285            485\n",
       " 107538      892  2936.6         335            585\n",
       " 107722      945  3628.5         335            585\n",
       " 107790      957  35.628         335            585\n",
       " 107823      960  3628.6         335            585\n",
       " \n",
       " [116 rows x 4 columns],\n",
       "         work_id size_id  sale_price  regular_price\n",
       " 0        160228      24          85             85\n",
       " 1        160228      30          95             95\n",
       " 2        160236      24          85             85\n",
       " 3        160236      30          95             95\n",
       " 4        160244      24          85             85\n",
       " ...         ...     ...         ...            ...\n",
       " 110342   184829    3030         335            595\n",
       " 110343   184829    3636         395            715\n",
       " 110344   184829    4040         455            835\n",
       " 110345   184829    4848         565           1055\n",
       " 110346   184829    6060         775           1475\n",
       " \n",
       " [110231 rows x 4 columns])"
      ]
     },
     "execution_count": 16,
     "metadata": {},
     "output_type": "execute_result"
    }
   ],
   "source": [
    "product_size[product_size[\"size_id\"].str.contains(r\"\\.\") == True], product_size[product_size[\"size_id\"].str.contains(r\"\\.\") == False]"
   ]
  },
  {
   "cell_type": "markdown",
   "id": "9432b57e-7b3f-4b64-959e-e98af216a016",
   "metadata": {},
   "source": [
    "There are **116 decimal-valued size_ids** in product_size"
   ]
  },
  {
   "cell_type": "code",
   "execution_count": 17,
   "id": "23f4a9fb-5807-48e5-814e-364d65005b5f",
   "metadata": {},
   "outputs": [
    {
     "data": {
      "text/html": [
       "<div>\n",
       "<style scoped>\n",
       "    .dataframe tbody tr th:only-of-type {\n",
       "        vertical-align: middle;\n",
       "    }\n",
       "\n",
       "    .dataframe tbody tr th {\n",
       "        vertical-align: top;\n",
       "    }\n",
       "\n",
       "    .dataframe thead th {\n",
       "        text-align: right;\n",
       "    }\n",
       "</style>\n",
       "<table border=\"1\" class=\"dataframe\">\n",
       "  <thead>\n",
       "    <tr style=\"text-align: right;\">\n",
       "      <th></th>\n",
       "      <th>size_id</th>\n",
       "      <th>width</th>\n",
       "      <th>height</th>\n",
       "      <th>label</th>\n",
       "    </tr>\n",
       "  </thead>\n",
       "  <tbody>\n",
       "    <tr>\n",
       "      <th>0</th>\n",
       "      <td>20</td>\n",
       "      <td>20</td>\n",
       "      <td>NaN</td>\n",
       "      <td>20\" Long Edge</td>\n",
       "    </tr>\n",
       "    <tr>\n",
       "      <th>1</th>\n",
       "      <td>24</td>\n",
       "      <td>24</td>\n",
       "      <td>NaN</td>\n",
       "      <td>24\" Long Edge</td>\n",
       "    </tr>\n",
       "    <tr>\n",
       "      <th>2</th>\n",
       "      <td>30</td>\n",
       "      <td>30</td>\n",
       "      <td>NaN</td>\n",
       "      <td>30\" Long Edge</td>\n",
       "    </tr>\n",
       "    <tr>\n",
       "      <th>3</th>\n",
       "      <td>36</td>\n",
       "      <td>36</td>\n",
       "      <td>NaN</td>\n",
       "      <td>36\" Long Edge</td>\n",
       "    </tr>\n",
       "    <tr>\n",
       "      <th>4</th>\n",
       "      <td>40</td>\n",
       "      <td>40</td>\n",
       "      <td>NaN</td>\n",
       "      <td>40\" Long Edge</td>\n",
       "    </tr>\n",
       "    <tr>\n",
       "      <th>...</th>\n",
       "      <td>...</td>\n",
       "      <td>...</td>\n",
       "      <td>...</td>\n",
       "      <td>...</td>\n",
       "    </tr>\n",
       "    <tr>\n",
       "      <th>195</th>\n",
       "      <td>7963</td>\n",
       "      <td>79</td>\n",
       "      <td>63.0</td>\n",
       "      <td>79\" x 63\"(201 cm x 160 cm)</td>\n",
       "    </tr>\n",
       "    <tr>\n",
       "      <th>196</th>\n",
       "      <td>8040</td>\n",
       "      <td>80</td>\n",
       "      <td>40.0</td>\n",
       "      <td>80\" x 40\"(203 cm x 102 cm)</td>\n",
       "    </tr>\n",
       "    <tr>\n",
       "      <th>197</th>\n",
       "      <td>8051</td>\n",
       "      <td>80</td>\n",
       "      <td>51.0</td>\n",
       "      <td>80\" x 51\"(203 cm x 130 cm)</td>\n",
       "    </tr>\n",
       "    <tr>\n",
       "      <th>198</th>\n",
       "      <td>8959</td>\n",
       "      <td>89</td>\n",
       "      <td>59.0</td>\n",
       "      <td>89\" x 59\"(226 cm x 150 cm)</td>\n",
       "    </tr>\n",
       "    <tr>\n",
       "      <th>199</th>\n",
       "      <td>9648</td>\n",
       "      <td>96</td>\n",
       "      <td>48.0</td>\n",
       "      <td>96\" x 48\"(244 cm x 122 cm)</td>\n",
       "    </tr>\n",
       "  </tbody>\n",
       "</table>\n",
       "<p>200 rows × 4 columns</p>\n",
       "</div>"
      ],
      "text/plain": [
       "     size_id  width  height                       label\n",
       "0         20     20     NaN               20\" Long Edge\n",
       "1         24     24     NaN               24\" Long Edge\n",
       "2         30     30     NaN               30\" Long Edge\n",
       "3         36     36     NaN               36\" Long Edge\n",
       "4         40     40     NaN               40\" Long Edge\n",
       "..       ...    ...     ...                         ...\n",
       "195     7963     79    63.0  79\" x 63\"(201 cm x 160 cm)\n",
       "196     8040     80    40.0  80\" x 40\"(203 cm x 102 cm)\n",
       "197     8051     80    51.0  80\" x 51\"(203 cm x 130 cm)\n",
       "198     8959     89    59.0  89\" x 59\"(226 cm x 150 cm)\n",
       "199     9648     96    48.0  96\" x 48\"(244 cm x 122 cm)\n",
       "\n",
       "[200 rows x 4 columns]"
      ]
     },
     "execution_count": 17,
     "metadata": {},
     "output_type": "execute_result"
    }
   ],
   "source": [
    "canvas_size"
   ]
  },
  {
   "cell_type": "markdown",
   "id": "96eb0aac-7e46-4c09-a627-60695a2c86b3",
   "metadata": {},
   "source": [
    "**NOTE:** size_id encodes the dimensions of a canvas."
   ]
  },
  {
   "cell_type": "code",
   "execution_count": 18,
   "id": "2326315e-1009-4555-8937-23b7b39079fd",
   "metadata": {},
   "outputs": [
    {
     "name": "stdout",
     "output_type": "stream",
     "text": [
      "Actual count: work_id    110347\n",
      "size_id    110347\n",
      "dtype: int64\n",
      "Expected count: work_id    109660\n",
      "size_id    109660\n",
      "dtype: int64\n"
     ]
    }
   ],
   "source": [
    "print(f\"Actual count: {product_size[['work_id','size_id']].count()}\") \n",
    "print(f\"Expected count: {product_size[['work_id','size_id']].drop_duplicates(subset=['work_id','size_id']).count()}\")"
   ]
  },
  {
   "cell_type": "code",
   "execution_count": 19,
   "id": "b989d1ce-4702-45aa-9462-89db97a04b17",
   "metadata": {},
   "outputs": [
    {
     "name": "stdout",
     "output_type": "stream",
     "text": [
      "Row count: work_id          110347\n",
      "size_id          110347\n",
      "sale_price       110347\n",
      "regular_price    110347\n",
      "dtype: int64\n",
      "Deduplicated count: work_id          109660\n",
      "size_id          109660\n",
      "sale_price       109660\n",
      "regular_price    109660\n",
      "dtype: int64\n"
     ]
    }
   ],
   "source": [
    "print(f\"Row count: {product_size.count()}\") \n",
    "print(f\"Deduplicated count: {product_size.drop_duplicates().count()}\")"
   ]
  },
  {
   "cell_type": "code",
   "execution_count": 20,
   "id": "c8d1086c-81e0-471d-aef8-f9b462c5ee92",
   "metadata": {},
   "outputs": [
    {
     "data": {
      "text/html": [
       "<div>\n",
       "<style scoped>\n",
       "    .dataframe tbody tr th:only-of-type {\n",
       "        vertical-align: middle;\n",
       "    }\n",
       "\n",
       "    .dataframe tbody tr th {\n",
       "        vertical-align: top;\n",
       "    }\n",
       "\n",
       "    .dataframe thead th {\n",
       "        text-align: right;\n",
       "    }\n",
       "</style>\n",
       "<table border=\"1\" class=\"dataframe\">\n",
       "  <thead>\n",
       "    <tr style=\"text-align: right;\">\n",
       "      <th></th>\n",
       "      <th>work_id</th>\n",
       "      <th>size_id</th>\n",
       "      <th>sale_price</th>\n",
       "      <th>regular_price</th>\n",
       "    </tr>\n",
       "  </thead>\n",
       "  <tbody>\n",
       "    <tr>\n",
       "      <th>2452</th>\n",
       "      <td>208485</td>\n",
       "      <td>#VALUE!</td>\n",
       "      <td>225</td>\n",
       "      <td>375</td>\n",
       "    </tr>\n",
       "    <tr>\n",
       "      <th>7060</th>\n",
       "      <td>6018</td>\n",
       "      <td>#VALUE!</td>\n",
       "      <td>295</td>\n",
       "      <td>515</td>\n",
       "    </tr>\n",
       "    <tr>\n",
       "      <th>7177</th>\n",
       "      <td>6044</td>\n",
       "      <td>#VALUE!</td>\n",
       "      <td>265</td>\n",
       "      <td>455</td>\n",
       "    </tr>\n",
       "    <tr>\n",
       "      <th>7288</th>\n",
       "      <td>6068</td>\n",
       "      <td>#VALUE!</td>\n",
       "      <td>265</td>\n",
       "      <td>455</td>\n",
       "    </tr>\n",
       "    <tr>\n",
       "      <th>7571</th>\n",
       "      <td>128845</td>\n",
       "      <td>#VALUE!</td>\n",
       "      <td>505</td>\n",
       "      <td>895</td>\n",
       "    </tr>\n",
       "    <tr>\n",
       "      <th>...</th>\n",
       "      <td>...</td>\n",
       "      <td>...</td>\n",
       "      <td>...</td>\n",
       "      <td>...</td>\n",
       "    </tr>\n",
       "    <tr>\n",
       "      <th>107578</th>\n",
       "      <td>897</td>\n",
       "      <td>#VALUE!</td>\n",
       "      <td>335</td>\n",
       "      <td>585</td>\n",
       "    </tr>\n",
       "    <tr>\n",
       "      <th>107714</th>\n",
       "      <td>944</td>\n",
       "      <td>#VALUE!</td>\n",
       "      <td>335</td>\n",
       "      <td>585</td>\n",
       "    </tr>\n",
       "    <tr>\n",
       "      <th>107762</th>\n",
       "      <td>953</td>\n",
       "      <td>#VALUE!</td>\n",
       "      <td>335</td>\n",
       "      <td>585</td>\n",
       "    </tr>\n",
       "    <tr>\n",
       "      <th>107772</th>\n",
       "      <td>955</td>\n",
       "      <td>#VALUE!</td>\n",
       "      <td>275</td>\n",
       "      <td>465</td>\n",
       "    </tr>\n",
       "    <tr>\n",
       "      <th>107777</th>\n",
       "      <td>956</td>\n",
       "      <td>#VALUE!</td>\n",
       "      <td>335</td>\n",
       "      <td>585</td>\n",
       "    </tr>\n",
       "  </tbody>\n",
       "</table>\n",
       "<p>212 rows × 4 columns</p>\n",
       "</div>"
      ],
      "text/plain": [
       "        work_id  size_id  sale_price  regular_price\n",
       "2452     208485  #VALUE!         225            375\n",
       "7060       6018  #VALUE!         295            515\n",
       "7177       6044  #VALUE!         265            455\n",
       "7288       6068  #VALUE!         265            455\n",
       "7571     128845  #VALUE!         505            895\n",
       "...         ...      ...         ...            ...\n",
       "107578      897  #VALUE!         335            585\n",
       "107714      944  #VALUE!         335            585\n",
       "107762      953  #VALUE!         335            585\n",
       "107772      955  #VALUE!         275            465\n",
       "107777      956  #VALUE!         335            585\n",
       "\n",
       "[212 rows x 4 columns]"
      ]
     },
     "execution_count": 20,
     "metadata": {},
     "output_type": "execute_result"
    }
   ],
   "source": [
    "product_size[product_size[\"size_id\"].str.contains(r\"#VALUE!\") == True]"
   ]
  },
  {
   "cell_type": "markdown",
   "id": "d13f6b3b-21e1-48c3-aa7b-1eea0ceb7adb",
   "metadata": {},
   "source": [
    "There are **212 '#VALUE!' size_ids** in product_size."
   ]
  },
  {
   "cell_type": "markdown",
   "id": "73bb2996-f6da-4636-854e-55ccbde2a899",
   "metadata": {},
   "source": [
    "Checking **museum_hours** DataFrame:"
   ]
  },
  {
   "cell_type": "code",
   "execution_count": 21,
   "id": "7f7b8233-a447-4218-9230-9658f3d2080f",
   "metadata": {},
   "outputs": [
    {
     "data": {
      "text/plain": [
       "(0      30\n",
       " 1      30\n",
       " 2      30\n",
       " 3      30\n",
       " 4      30\n",
       "        ..\n",
       " 346    86\n",
       " 347    86\n",
       " 348    86\n",
       " 349    86\n",
       " 350    86\n",
       " Name: museum_id, Length: 351, dtype: int64,\n",
       " 0         Sunday\n",
       " 1         Monday\n",
       " 2        Tuesday\n",
       " 3      Wednesday\n",
       " 4        Thusday\n",
       "          ...    \n",
       " 346      Tuesday\n",
       " 347    Wednesday\n",
       " 348     Thursday\n",
       " 349       Friday\n",
       " 350     Saturday\n",
       " Name: day, Length: 351, dtype: object)"
      ]
     },
     "execution_count": 21,
     "metadata": {},
     "output_type": "execute_result"
    }
   ],
   "source": [
    "museum_hours['museum_id'], museum_hours['day']"
   ]
  },
  {
   "cell_type": "code",
   "execution_count": 22,
   "id": "a0158421-c6f8-41f4-9ffb-3ed8d586571b",
   "metadata": {},
   "outputs": [
    {
     "data": {
      "text/plain": [
       "array(['Sunday', 'Monday', 'Tuesday', 'Wednesday', 'Thusday', 'Friday',\n",
       "       'Saturday', 'Thursday'], dtype=object)"
      ]
     },
     "execution_count": 22,
     "metadata": {},
     "output_type": "execute_result"
    }
   ],
   "source": [
    "museum_hours['day'].unique()"
   ]
  },
  {
   "cell_type": "code",
   "execution_count": 23,
   "id": "64d00029-193e-49db-8c22-847373245ac6",
   "metadata": {},
   "outputs": [
    {
     "name": "stdout",
     "output_type": "stream",
     "text": [
      "Actual count: museum_id    351\n",
      "day          351\n",
      "dtype: int64\n",
      "Expected count: museum_id    350\n",
      "day          350\n",
      "dtype: int64\n"
     ]
    }
   ],
   "source": [
    "print(f\"Actual count: {museum_hours[['museum_id','day']].count()}\") \n",
    "print(f\"Expected count: {museum_hours[['museum_id','day']].drop_duplicates().count()}\")"
   ]
  },
  {
   "cell_type": "code",
   "execution_count": 24,
   "id": "748eb35d-0b52-4158-b58e-79e4b1244e71",
   "metadata": {},
   "outputs": [
    {
     "name": "stdout",
     "output_type": "stream",
     "text": [
      "Row count: museum_id    351\n",
      "day          351\n",
      "open         351\n",
      "close        351\n",
      "dtype: int64\n",
      "Deduplicated count: museum_id    350\n",
      "day          350\n",
      "open         350\n",
      "close        350\n",
      "dtype: int64\n"
     ]
    }
   ],
   "source": [
    "print(f\"Row count: {museum_hours.count()}\") \n",
    "print(f\"Deduplicated count: {museum_hours.drop_duplicates().count()}\")"
   ]
  },
  {
   "cell_type": "markdown",
   "id": "cbc0814f-2670-4616-b2fa-5d84583681a8",
   "metadata": {},
   "source": [
    "Checking **subject** DataFrame:"
   ]
  },
  {
   "cell_type": "code",
   "execution_count": 25,
   "id": "d146cbcc-6945-4ea5-ae0f-30ff839fc62d",
   "metadata": {},
   "outputs": [
    {
     "data": {
      "text/plain": [
       "(0       160228\n",
       " 1       160236\n",
       " 2       160244\n",
       " 3       160252\n",
       " 4       160260\n",
       "          ...  \n",
       " 6766      8145\n",
       " 6767      8171\n",
       " 6768      8179\n",
       " 6769      8183\n",
       " 6770      8269\n",
       " Name: work_id, Length: 6771, dtype: int64,\n",
       " 0         Still-Life\n",
       " 1         Still-Life\n",
       " 2         Still-Life\n",
       " 3         Still-Life\n",
       " 4         Still-Life\n",
       "             ...     \n",
       " 6766       Portraits\n",
       " 6767    Rivers/Lakes\n",
       " 6768          Summer\n",
       " 6769       Seascapes\n",
       " 6770       Seascapes\n",
       " Name: subject, Length: 6771, dtype: object)"
      ]
     },
     "execution_count": 25,
     "metadata": {},
     "output_type": "execute_result"
    }
   ],
   "source": [
    "subject['work_id'], subject['subject']"
   ]
  },
  {
   "cell_type": "code",
   "execution_count": 26,
   "id": "3f363051-76b8-4eac-9a5f-9b1f303ae0d2",
   "metadata": {},
   "outputs": [
    {
     "data": {
      "text/plain": [
       "(work_id    0\n",
       " subject    0\n",
       " dtype: int64,\n",
       " work_id    0\n",
       " subject    0\n",
       " dtype: int64)"
      ]
     },
     "execution_count": 26,
     "metadata": {},
     "output_type": "execute_result"
    }
   ],
   "source": [
    "subject[subject['work_id'].isnull()].count(), subject[subject['subject'].isnull()].count()"
   ]
  },
  {
   "cell_type": "code",
   "execution_count": 27,
   "id": "76e7d656-b83a-4a6d-8f51-f79255840aca",
   "metadata": {},
   "outputs": [
    {
     "name": "stdout",
     "output_type": "stream",
     "text": [
      "Actual count: work_id    6771\n",
      "subject    6771\n",
      "dtype: int64\n",
      "Expected count: work_id    6712\n",
      "subject    6712\n",
      "dtype: int64\n"
     ]
    }
   ],
   "source": [
    "print(f\"Actual count: {subject[['work_id','subject']].count()}\") \n",
    "print(f\"Expected count: {subject[['work_id','subject']].drop_duplicates().count()}\")"
   ]
  },
  {
   "cell_type": "code",
   "execution_count": 28,
   "id": "a1f1b569-b3af-492d-853e-7cbbfa92bb02",
   "metadata": {},
   "outputs": [
    {
     "name": "stdout",
     "output_type": "stream",
     "text": [
      "Row count: work_id    6771\n",
      "subject    6771\n",
      "dtype: int64\n",
      "Deduplicated count: work_id    6712\n",
      "subject    6712\n",
      "dtype: int64\n"
     ]
    }
   ],
   "source": [
    "print(f\"Row count: {subject.count()}\") \n",
    "print(f\"Deduplicated count: {subject.drop_duplicates().count()}\")"
   ]
  },
  {
   "cell_type": "markdown",
   "id": "13032b16-65bf-4f98-a6de-b55357e58525",
   "metadata": {},
   "source": [
    "## Foreign Keys and relationships\n",
    "Checking foreign keys and the relationships between tables."
   ]
  },
  {
   "cell_type": "markdown",
   "id": "26369014-d0a7-4dad-8d83-f2188f1376cd",
   "metadata": {},
   "source": [
    "Checking the **work** and **museum** tables:"
   ]
  },
  {
   "cell_type": "code",
   "execution_count": 29,
   "id": "d84f98f1-9e9b-4092-8249-b306eb9e0a83",
   "metadata": {},
   "outputs": [
    {
     "data": {
      "text/html": [
       "<div>\n",
       "<style scoped>\n",
       "    .dataframe tbody tr th:only-of-type {\n",
       "        vertical-align: middle;\n",
       "    }\n",
       "\n",
       "    .dataframe tbody tr th {\n",
       "        vertical-align: top;\n",
       "    }\n",
       "\n",
       "    .dataframe thead th {\n",
       "        text-align: right;\n",
       "    }\n",
       "</style>\n",
       "<table border=\"1\" class=\"dataframe\">\n",
       "  <thead>\n",
       "    <tr style=\"text-align: right;\">\n",
       "      <th></th>\n",
       "      <th>work_id</th>\n",
       "      <th>name</th>\n",
       "      <th>artist_id</th>\n",
       "      <th>style</th>\n",
       "      <th>museum_id</th>\n",
       "    </tr>\n",
       "  </thead>\n",
       "  <tbody>\n",
       "    <tr>\n",
       "      <th>6</th>\n",
       "      <td>125752</td>\n",
       "      <td>Arabian Horses at Pasture</td>\n",
       "      <td>757</td>\n",
       "      <td>Baroque</td>\n",
       "      <td>NaN</td>\n",
       "    </tr>\n",
       "    <tr>\n",
       "      <th>7</th>\n",
       "      <td>125818</td>\n",
       "      <td>Count Halm on His Basedow Estate</td>\n",
       "      <td>757</td>\n",
       "      <td>Baroque</td>\n",
       "      <td>NaN</td>\n",
       "    </tr>\n",
       "    <tr>\n",
       "      <th>9</th>\n",
       "      <td>125763</td>\n",
       "      <td>Napoleon Before the Burning City of Smolensk</td>\n",
       "      <td>757</td>\n",
       "      <td>Baroque</td>\n",
       "      <td>NaN</td>\n",
       "    </tr>\n",
       "    <tr>\n",
       "      <th>10</th>\n",
       "      <td>125774</td>\n",
       "      <td>Peasants Resting in the Field</td>\n",
       "      <td>757</td>\n",
       "      <td>Baroque</td>\n",
       "      <td>NaN</td>\n",
       "    </tr>\n",
       "    <tr>\n",
       "      <th>11</th>\n",
       "      <td>125785</td>\n",
       "      <td>Portrait Oberleutnant Theodor Von Klein</td>\n",
       "      <td>757</td>\n",
       "      <td>Baroque</td>\n",
       "      <td>NaN</td>\n",
       "    </tr>\n",
       "    <tr>\n",
       "      <th>...</th>\n",
       "      <td>...</td>\n",
       "      <td>...</td>\n",
       "      <td>...</td>\n",
       "      <td>...</td>\n",
       "      <td>...</td>\n",
       "    </tr>\n",
       "    <tr>\n",
       "      <th>14768</th>\n",
       "      <td>8273</td>\n",
       "      <td>Waiting for an Answer</td>\n",
       "      <td>794</td>\n",
       "      <td>American Art</td>\n",
       "      <td>NaN</td>\n",
       "    </tr>\n",
       "    <tr>\n",
       "      <th>14772</th>\n",
       "      <td>8283</td>\n",
       "      <td>West Point, Prout's Neck</td>\n",
       "      <td>794</td>\n",
       "      <td>American Art</td>\n",
       "      <td>NaN</td>\n",
       "    </tr>\n",
       "    <tr>\n",
       "      <th>14773</th>\n",
       "      <td>8285</td>\n",
       "      <td>Winding Line</td>\n",
       "      <td>794</td>\n",
       "      <td>American Art</td>\n",
       "      <td>NaN</td>\n",
       "    </tr>\n",
       "    <tr>\n",
       "      <th>14774</th>\n",
       "      <td>184820</td>\n",
       "      <td>Untitled</td>\n",
       "      <td>620</td>\n",
       "      <td>Surrealism</td>\n",
       "      <td>NaN</td>\n",
       "    </tr>\n",
       "    <tr>\n",
       "      <th>14775</th>\n",
       "      <td>184829</td>\n",
       "      <td>Untitled</td>\n",
       "      <td>620</td>\n",
       "      <td>Surrealism</td>\n",
       "      <td>NaN</td>\n",
       "    </tr>\n",
       "  </tbody>\n",
       "</table>\n",
       "<p>10223 rows × 5 columns</p>\n",
       "</div>"
      ],
      "text/plain": [
       "       work_id                                          name  artist_id  \\\n",
       "6       125752                     Arabian Horses at Pasture        757   \n",
       "7       125818              Count Halm on His Basedow Estate        757   \n",
       "9       125763  Napoleon Before the Burning City of Smolensk        757   \n",
       "10      125774                 Peasants Resting in the Field        757   \n",
       "11      125785       Portrait Oberleutnant Theodor Von Klein        757   \n",
       "...        ...                                           ...        ...   \n",
       "14768     8273                         Waiting for an Answer        794   \n",
       "14772     8283                      West Point, Prout's Neck        794   \n",
       "14773     8285                                  Winding Line        794   \n",
       "14774   184820                                      Untitled        620   \n",
       "14775   184829                                      Untitled        620   \n",
       "\n",
       "              style  museum_id  \n",
       "6           Baroque        NaN  \n",
       "7           Baroque        NaN  \n",
       "9           Baroque        NaN  \n",
       "10          Baroque        NaN  \n",
       "11          Baroque        NaN  \n",
       "...             ...        ...  \n",
       "14768  American Art        NaN  \n",
       "14772  American Art        NaN  \n",
       "14773  American Art        NaN  \n",
       "14774    Surrealism        NaN  \n",
       "14775    Surrealism        NaN  \n",
       "\n",
       "[10223 rows x 5 columns]"
      ]
     },
     "execution_count": 29,
     "metadata": {},
     "output_type": "execute_result"
    }
   ],
   "source": [
    "null_or_invalid_museum_ids = work[~work['museum_id'].isin(museum['museum_id'])]\n",
    "null_or_invalid_museum_ids"
   ]
  },
  {
   "cell_type": "code",
   "execution_count": 30,
   "id": "b286ff45-b467-485d-9b4f-7b9e804c109e",
   "metadata": {},
   "outputs": [
    {
     "data": {
      "text/plain": [
       "array([nan])"
      ]
     },
     "execution_count": 30,
     "metadata": {},
     "output_type": "execute_result"
    }
   ],
   "source": [
    "null_or_invalid_museum_ids['museum_id'].unique()"
   ]
  },
  {
   "cell_type": "markdown",
   "id": "8584045f-62d3-451a-b8e2-a12ce08ef667",
   "metadata": {},
   "source": [
    "There are **10223 null museum_ids** in work. The museums that these works belong to are 'Unknown'."
   ]
  },
  {
   "cell_type": "code",
   "execution_count": 31,
   "id": "c7fdee3d-cc90-4e9e-bb0a-29a5c34fa83a",
   "metadata": {},
   "outputs": [
    {
     "data": {
      "text/html": [
       "<div>\n",
       "<style scoped>\n",
       "    .dataframe tbody tr th:only-of-type {\n",
       "        vertical-align: middle;\n",
       "    }\n",
       "\n",
       "    .dataframe tbody tr th {\n",
       "        vertical-align: top;\n",
       "    }\n",
       "\n",
       "    .dataframe thead th {\n",
       "        text-align: right;\n",
       "    }\n",
       "</style>\n",
       "<table border=\"1\" class=\"dataframe\">\n",
       "  <thead>\n",
       "    <tr style=\"text-align: right;\">\n",
       "      <th></th>\n",
       "      <th>museum_id</th>\n",
       "      <th>name</th>\n",
       "      <th>address</th>\n",
       "      <th>city</th>\n",
       "      <th>state</th>\n",
       "      <th>postal</th>\n",
       "      <th>country</th>\n",
       "      <th>phone</th>\n",
       "      <th>url</th>\n",
       "    </tr>\n",
       "  </thead>\n",
       "  <tbody>\n",
       "  </tbody>\n",
       "</table>\n",
       "</div>"
      ],
      "text/plain": [
       "Empty DataFrame\n",
       "Columns: [museum_id, name, address, city, state, postal, country, phone, url]\n",
       "Index: []"
      ]
     },
     "execution_count": 31,
     "metadata": {},
     "output_type": "execute_result"
    }
   ],
   "source": [
    "unassociated_museum_ids = museum[~museum['museum_id'].isin(work['museum_id'])]\n",
    "unassociated_museum_ids"
   ]
  },
  {
   "cell_type": "markdown",
   "id": "4cf0d93b-4581-4910-82c5-c4e5428b9a06",
   "metadata": {},
   "source": [
    "Checking the **work** and **artist** tables:"
   ]
  },
  {
   "cell_type": "code",
   "execution_count": 32,
   "id": "77704ea2-f9f6-43df-a26a-62887ff2aee4",
   "metadata": {},
   "outputs": [
    {
     "data": {
      "text/html": [
       "<div>\n",
       "<style scoped>\n",
       "    .dataframe tbody tr th:only-of-type {\n",
       "        vertical-align: middle;\n",
       "    }\n",
       "\n",
       "    .dataframe tbody tr th {\n",
       "        vertical-align: top;\n",
       "    }\n",
       "\n",
       "    .dataframe thead th {\n",
       "        text-align: right;\n",
       "    }\n",
       "</style>\n",
       "<table border=\"1\" class=\"dataframe\">\n",
       "  <thead>\n",
       "    <tr style=\"text-align: right;\">\n",
       "      <th></th>\n",
       "      <th>work_id</th>\n",
       "      <th>name</th>\n",
       "      <th>artist_id</th>\n",
       "      <th>style</th>\n",
       "      <th>museum_id</th>\n",
       "    </tr>\n",
       "  </thead>\n",
       "  <tbody>\n",
       "  </tbody>\n",
       "</table>\n",
       "</div>"
      ],
      "text/plain": [
       "Empty DataFrame\n",
       "Columns: [work_id, name, artist_id, style, museum_id]\n",
       "Index: []"
      ]
     },
     "execution_count": 32,
     "metadata": {},
     "output_type": "execute_result"
    }
   ],
   "source": [
    "null_or_invalid_artist_ids = work[~work['artist_id'].isin(artist['artist_id'])]\n",
    "null_or_invalid_artist_ids"
   ]
  },
  {
   "cell_type": "code",
   "execution_count": 33,
   "id": "3cdd08ba-a064-4c73-95e5-ed13c6825dae",
   "metadata": {},
   "outputs": [
    {
     "data": {
      "text/html": [
       "<div>\n",
       "<style scoped>\n",
       "    .dataframe tbody tr th:only-of-type {\n",
       "        vertical-align: middle;\n",
       "    }\n",
       "\n",
       "    .dataframe tbody tr th {\n",
       "        vertical-align: top;\n",
       "    }\n",
       "\n",
       "    .dataframe thead th {\n",
       "        text-align: right;\n",
       "    }\n",
       "</style>\n",
       "<table border=\"1\" class=\"dataframe\">\n",
       "  <thead>\n",
       "    <tr style=\"text-align: right;\">\n",
       "      <th></th>\n",
       "      <th>artist_id</th>\n",
       "      <th>full_name</th>\n",
       "      <th>first_name</th>\n",
       "      <th>middle_names</th>\n",
       "      <th>last_name</th>\n",
       "      <th>nationality</th>\n",
       "      <th>style</th>\n",
       "      <th>birth</th>\n",
       "      <th>death</th>\n",
       "    </tr>\n",
       "  </thead>\n",
       "  <tbody>\n",
       "  </tbody>\n",
       "</table>\n",
       "</div>"
      ],
      "text/plain": [
       "Empty DataFrame\n",
       "Columns: [artist_id, full_name, first_name, middle_names, last_name, nationality, style, birth, death]\n",
       "Index: []"
      ]
     },
     "execution_count": 33,
     "metadata": {},
     "output_type": "execute_result"
    }
   ],
   "source": [
    "unassociated_artist_ids = artist[~artist['artist_id'].isin(work['artist_id'])]\n",
    "unassociated_artist_ids"
   ]
  },
  {
   "cell_type": "markdown",
   "id": "63f83124-b105-4b2e-8d8e-a0928cc09561",
   "metadata": {},
   "source": [
    "Checking **subject** and **work** tables:"
   ]
  },
  {
   "cell_type": "code",
   "execution_count": 34,
   "id": "1f81585d-485a-4aa0-9a27-9e1d352fdae1",
   "metadata": {},
   "outputs": [
    {
     "data": {
      "text/html": [
       "<div>\n",
       "<style scoped>\n",
       "    .dataframe tbody tr th:only-of-type {\n",
       "        vertical-align: middle;\n",
       "    }\n",
       "\n",
       "    .dataframe tbody tr th {\n",
       "        vertical-align: top;\n",
       "    }\n",
       "\n",
       "    .dataframe thead th {\n",
       "        text-align: right;\n",
       "    }\n",
       "</style>\n",
       "<table border=\"1\" class=\"dataframe\">\n",
       "  <thead>\n",
       "    <tr style=\"text-align: right;\">\n",
       "      <th></th>\n",
       "      <th>work_id</th>\n",
       "      <th>subject</th>\n",
       "    </tr>\n",
       "  </thead>\n",
       "  <tbody>\n",
       "  </tbody>\n",
       "</table>\n",
       "</div>"
      ],
      "text/plain": [
       "Empty DataFrame\n",
       "Columns: [work_id, subject]\n",
       "Index: []"
      ]
     },
     "execution_count": 34,
     "metadata": {},
     "output_type": "execute_result"
    }
   ],
   "source": [
    "null_or_invalid_work_ids = subject[~subject['work_id'].isin(work['work_id'])]\n",
    "null_or_invalid_work_ids"
   ]
  },
  {
   "cell_type": "code",
   "execution_count": 35,
   "id": "e635bbb2-3fec-4ba4-8ee3-70b33dc2d483",
   "metadata": {},
   "outputs": [
    {
     "data": {
      "text/html": [
       "<div>\n",
       "<style scoped>\n",
       "    .dataframe tbody tr th:only-of-type {\n",
       "        vertical-align: middle;\n",
       "    }\n",
       "\n",
       "    .dataframe tbody tr th {\n",
       "        vertical-align: top;\n",
       "    }\n",
       "\n",
       "    .dataframe thead th {\n",
       "        text-align: right;\n",
       "    }\n",
       "</style>\n",
       "<table border=\"1\" class=\"dataframe\">\n",
       "  <thead>\n",
       "    <tr style=\"text-align: right;\">\n",
       "      <th></th>\n",
       "      <th>work_id</th>\n",
       "      <th>name</th>\n",
       "      <th>artist_id</th>\n",
       "      <th>style</th>\n",
       "      <th>museum_id</th>\n",
       "    </tr>\n",
       "  </thead>\n",
       "  <tbody>\n",
       "    <tr>\n",
       "      <th>7</th>\n",
       "      <td>125818</td>\n",
       "      <td>Count Halm on His Basedow Estate</td>\n",
       "      <td>757</td>\n",
       "      <td>Baroque</td>\n",
       "      <td>NaN</td>\n",
       "    </tr>\n",
       "    <tr>\n",
       "      <th>10</th>\n",
       "      <td>125774</td>\n",
       "      <td>Peasants Resting in the Field</td>\n",
       "      <td>757</td>\n",
       "      <td>Baroque</td>\n",
       "      <td>NaN</td>\n",
       "    </tr>\n",
       "    <tr>\n",
       "      <th>11</th>\n",
       "      <td>125785</td>\n",
       "      <td>Portrait Oberleutnant Theodor Von Klein</td>\n",
       "      <td>757</td>\n",
       "      <td>Baroque</td>\n",
       "      <td>NaN</td>\n",
       "    </tr>\n",
       "    <tr>\n",
       "      <th>12</th>\n",
       "      <td>125796</td>\n",
       "      <td>The Rescue of Count Munnich</td>\n",
       "      <td>757</td>\n",
       "      <td>Baroque</td>\n",
       "      <td>NaN</td>\n",
       "    </tr>\n",
       "    <tr>\n",
       "      <th>13</th>\n",
       "      <td>125807</td>\n",
       "      <td>The Stable Yard</td>\n",
       "      <td>757</td>\n",
       "      <td>Baroque</td>\n",
       "      <td>NaN</td>\n",
       "    </tr>\n",
       "    <tr>\n",
       "      <th>...</th>\n",
       "      <td>...</td>\n",
       "      <td>...</td>\n",
       "      <td>...</td>\n",
       "      <td>...</td>\n",
       "      <td>...</td>\n",
       "    </tr>\n",
       "    <tr>\n",
       "      <th>14771</th>\n",
       "      <td>8279</td>\n",
       "      <td>Weaning the Calf</td>\n",
       "      <td>794</td>\n",
       "      <td>American Art</td>\n",
       "      <td>35.0</td>\n",
       "    </tr>\n",
       "    <tr>\n",
       "      <th>14772</th>\n",
       "      <td>8283</td>\n",
       "      <td>West Point, Prout's Neck</td>\n",
       "      <td>794</td>\n",
       "      <td>American Art</td>\n",
       "      <td>NaN</td>\n",
       "    </tr>\n",
       "    <tr>\n",
       "      <th>14773</th>\n",
       "      <td>8285</td>\n",
       "      <td>Winding Line</td>\n",
       "      <td>794</td>\n",
       "      <td>American Art</td>\n",
       "      <td>NaN</td>\n",
       "    </tr>\n",
       "    <tr>\n",
       "      <th>14774</th>\n",
       "      <td>184820</td>\n",
       "      <td>Untitled</td>\n",
       "      <td>620</td>\n",
       "      <td>Surrealism</td>\n",
       "      <td>NaN</td>\n",
       "    </tr>\n",
       "    <tr>\n",
       "      <th>14775</th>\n",
       "      <td>184829</td>\n",
       "      <td>Untitled</td>\n",
       "      <td>620</td>\n",
       "      <td>Surrealism</td>\n",
       "      <td>NaN</td>\n",
       "    </tr>\n",
       "  </tbody>\n",
       "</table>\n",
       "<p>8709 rows × 5 columns</p>\n",
       "</div>"
      ],
      "text/plain": [
       "       work_id                                     name  artist_id  \\\n",
       "7       125818         Count Halm on His Basedow Estate        757   \n",
       "10      125774            Peasants Resting in the Field        757   \n",
       "11      125785  Portrait Oberleutnant Theodor Von Klein        757   \n",
       "12      125796              The Rescue of Count Munnich        757   \n",
       "13      125807                          The Stable Yard        757   \n",
       "...        ...                                      ...        ...   \n",
       "14771     8279                         Weaning the Calf        794   \n",
       "14772     8283                 West Point, Prout's Neck        794   \n",
       "14773     8285                             Winding Line        794   \n",
       "14774   184820                                 Untitled        620   \n",
       "14775   184829                                 Untitled        620   \n",
       "\n",
       "              style  museum_id  \n",
       "7           Baroque        NaN  \n",
       "10          Baroque        NaN  \n",
       "11          Baroque        NaN  \n",
       "12          Baroque        NaN  \n",
       "13          Baroque        NaN  \n",
       "...             ...        ...  \n",
       "14771  American Art       35.0  \n",
       "14772  American Art        NaN  \n",
       "14773  American Art        NaN  \n",
       "14774    Surrealism        NaN  \n",
       "14775    Surrealism        NaN  \n",
       "\n",
       "[8709 rows x 5 columns]"
      ]
     },
     "execution_count": 35,
     "metadata": {},
     "output_type": "execute_result"
    }
   ],
   "source": [
    "unassociated_work_ids = work[~work['work_id'].isin(subject['work_id'])]\n",
    "unassociated_work_ids"
   ]
  },
  {
   "cell_type": "markdown",
   "id": "dc5d9ddb-fc60-444e-809c-aaaba9330968",
   "metadata": {},
   "source": [
    "There are **8709 work_ids not referenced in work** by the foreign key work_id in subject."
   ]
  },
  {
   "cell_type": "markdown",
   "id": "3c6403e9-452d-49fd-b4ca-ad412adfff05",
   "metadata": {},
   "source": [
    "Checking **museum_hours** and **museum** table:"
   ]
  },
  {
   "cell_type": "code",
   "execution_count": 36,
   "id": "42a39f88-990f-4da9-8d65-6fffe830c750",
   "metadata": {},
   "outputs": [
    {
     "data": {
      "text/html": [
       "<div>\n",
       "<style scoped>\n",
       "    .dataframe tbody tr th:only-of-type {\n",
       "        vertical-align: middle;\n",
       "    }\n",
       "\n",
       "    .dataframe tbody tr th {\n",
       "        vertical-align: top;\n",
       "    }\n",
       "\n",
       "    .dataframe thead th {\n",
       "        text-align: right;\n",
       "    }\n",
       "</style>\n",
       "<table border=\"1\" class=\"dataframe\">\n",
       "  <thead>\n",
       "    <tr style=\"text-align: right;\">\n",
       "      <th></th>\n",
       "      <th>museum_id</th>\n",
       "      <th>day</th>\n",
       "      <th>open</th>\n",
       "      <th>close</th>\n",
       "    </tr>\n",
       "  </thead>\n",
       "  <tbody>\n",
       "  </tbody>\n",
       "</table>\n",
       "</div>"
      ],
      "text/plain": [
       "Empty DataFrame\n",
       "Columns: [museum_id, day, open, close]\n",
       "Index: []"
      ]
     },
     "execution_count": 36,
     "metadata": {},
     "output_type": "execute_result"
    }
   ],
   "source": [
    "null_or_invalid_museum_ids = museum_hours[~museum_hours['museum_id'].isin(museum['museum_id'])]\n",
    "null_or_invalid_museum_ids"
   ]
  },
  {
   "cell_type": "code",
   "execution_count": 37,
   "id": "180b5e64-1b67-4d99-9c72-3cdd03ff1cc5",
   "metadata": {},
   "outputs": [
    {
     "data": {
      "text/html": [
       "<div>\n",
       "<style scoped>\n",
       "    .dataframe tbody tr th:only-of-type {\n",
       "        vertical-align: middle;\n",
       "    }\n",
       "\n",
       "    .dataframe tbody tr th {\n",
       "        vertical-align: top;\n",
       "    }\n",
       "\n",
       "    .dataframe thead th {\n",
       "        text-align: right;\n",
       "    }\n",
       "</style>\n",
       "<table border=\"1\" class=\"dataframe\">\n",
       "  <thead>\n",
       "    <tr style=\"text-align: right;\">\n",
       "      <th></th>\n",
       "      <th>museum_id</th>\n",
       "      <th>name</th>\n",
       "      <th>address</th>\n",
       "      <th>city</th>\n",
       "      <th>state</th>\n",
       "      <th>postal</th>\n",
       "      <th>country</th>\n",
       "      <th>phone</th>\n",
       "      <th>url</th>\n",
       "    </tr>\n",
       "  </thead>\n",
       "  <tbody>\n",
       "  </tbody>\n",
       "</table>\n",
       "</div>"
      ],
      "text/plain": [
       "Empty DataFrame\n",
       "Columns: [museum_id, name, address, city, state, postal, country, phone, url]\n",
       "Index: []"
      ]
     },
     "execution_count": 37,
     "metadata": {},
     "output_type": "execute_result"
    }
   ],
   "source": [
    "unassociated_museum_ids = museum[~museum['museum_id'].isin(museum_hours['museum_id'])]\n",
    "unassociated_museum_ids"
   ]
  },
  {
   "cell_type": "markdown",
   "id": "92f63867-b44b-4830-a5a3-0f058eb87b6f",
   "metadata": {},
   "source": [
    "Checking **product_size** and **work** table:"
   ]
  },
  {
   "cell_type": "code",
   "execution_count": 38,
   "id": "b279fcd4-286f-42ca-9fbe-accace2ec25a",
   "metadata": {},
   "outputs": [
    {
     "data": {
      "text/html": [
       "<div>\n",
       "<style scoped>\n",
       "    .dataframe tbody tr th:only-of-type {\n",
       "        vertical-align: middle;\n",
       "    }\n",
       "\n",
       "    .dataframe tbody tr th {\n",
       "        vertical-align: top;\n",
       "    }\n",
       "\n",
       "    .dataframe thead th {\n",
       "        text-align: right;\n",
       "    }\n",
       "</style>\n",
       "<table border=\"1\" class=\"dataframe\">\n",
       "  <thead>\n",
       "    <tr style=\"text-align: right;\">\n",
       "      <th></th>\n",
       "      <th>work_id</th>\n",
       "      <th>size_id</th>\n",
       "      <th>sale_price</th>\n",
       "      <th>regular_price</th>\n",
       "    </tr>\n",
       "  </thead>\n",
       "  <tbody>\n",
       "  </tbody>\n",
       "</table>\n",
       "</div>"
      ],
      "text/plain": [
       "Empty DataFrame\n",
       "Columns: [work_id, size_id, sale_price, regular_price]\n",
       "Index: []"
      ]
     },
     "execution_count": 38,
     "metadata": {},
     "output_type": "execute_result"
    }
   ],
   "source": [
    "null_or_invalid_work_ids = product_size[~product_size['work_id'].isin(work['work_id'])]\n",
    "null_or_invalid_work_ids"
   ]
  },
  {
   "cell_type": "code",
   "execution_count": 39,
   "id": "23b115c1-c077-4948-a0a9-4a13a641ff91",
   "metadata": {},
   "outputs": [
    {
     "data": {
      "text/html": [
       "<div>\n",
       "<style scoped>\n",
       "    .dataframe tbody tr th:only-of-type {\n",
       "        vertical-align: middle;\n",
       "    }\n",
       "\n",
       "    .dataframe tbody tr th {\n",
       "        vertical-align: top;\n",
       "    }\n",
       "\n",
       "    .dataframe thead th {\n",
       "        text-align: right;\n",
       "    }\n",
       "</style>\n",
       "<table border=\"1\" class=\"dataframe\">\n",
       "  <thead>\n",
       "    <tr style=\"text-align: right;\">\n",
       "      <th></th>\n",
       "      <th>work_id</th>\n",
       "      <th>name</th>\n",
       "      <th>artist_id</th>\n",
       "      <th>style</th>\n",
       "      <th>museum_id</th>\n",
       "    </tr>\n",
       "  </thead>\n",
       "  <tbody>\n",
       "    <tr>\n",
       "      <th>853</th>\n",
       "      <td>27187</td>\n",
       "      <td>The Mother and Sister of the Artist</td>\n",
       "      <td>769</td>\n",
       "      <td>Impressionism</td>\n",
       "      <td>46.0</td>\n",
       "    </tr>\n",
       "    <tr>\n",
       "      <th>988</th>\n",
       "      <td>192414</td>\n",
       "      <td>A Blustery Winter Day</td>\n",
       "      <td>636</td>\n",
       "      <td>NaN</td>\n",
       "      <td>NaN</td>\n",
       "    </tr>\n",
       "    <tr>\n",
       "      <th>1367</th>\n",
       "      <td>192390</td>\n",
       "      <td>Grainstacks at the End of Summer, Morning Effect</td>\n",
       "      <td>550</td>\n",
       "      <td>NaN</td>\n",
       "      <td>NaN</td>\n",
       "    </tr>\n",
       "    <tr>\n",
       "      <th>1961</th>\n",
       "      <td>27686</td>\n",
       "      <td>Dancing Girls in Colourful Rays</td>\n",
       "      <td>824</td>\n",
       "      <td>Expressionism</td>\n",
       "      <td>NaN</td>\n",
       "    </tr>\n",
       "    <tr>\n",
       "      <th>4611</th>\n",
       "      <td>192400</td>\n",
       "      <td>Black Bashi Bazouk</td>\n",
       "      <td>667</td>\n",
       "      <td>NaN</td>\n",
       "      <td>NaN</td>\n",
       "    </tr>\n",
       "    <tr>\n",
       "      <th>...</th>\n",
       "      <td>...</td>\n",
       "      <td>...</td>\n",
       "      <td>...</td>\n",
       "      <td>...</td>\n",
       "      <td>...</td>\n",
       "    </tr>\n",
       "    <tr>\n",
       "      <th>14217</th>\n",
       "      <td>192403</td>\n",
       "      <td>Olive Orchard (30\" x 24\")</td>\n",
       "      <td>677</td>\n",
       "      <td>NaN</td>\n",
       "      <td>NaN</td>\n",
       "    </tr>\n",
       "    <tr>\n",
       "      <th>14295</th>\n",
       "      <td>192376</td>\n",
       "      <td>Starry Night (30\" x 24\")</td>\n",
       "      <td>677</td>\n",
       "      <td>NaN</td>\n",
       "      <td>NaN</td>\n",
       "    </tr>\n",
       "    <tr>\n",
       "      <th>14309</th>\n",
       "      <td>192411</td>\n",
       "      <td>Sunflowers, 12 in a Vase (26\" x 32\")</td>\n",
       "      <td>677</td>\n",
       "      <td>NaN</td>\n",
       "      <td>NaN</td>\n",
       "    </tr>\n",
       "    <tr>\n",
       "      <th>14311</th>\n",
       "      <td>192412</td>\n",
       "      <td>Sunflowers, 14 in a Vase (24\" x 30\")</td>\n",
       "      <td>677</td>\n",
       "      <td>NaN</td>\n",
       "      <td>NaN</td>\n",
       "    </tr>\n",
       "    <tr>\n",
       "      <th>14314</th>\n",
       "      <td>192410</td>\n",
       "      <td>Sunflowers (24\" x 30\")</td>\n",
       "      <td>677</td>\n",
       "      <td>NaN</td>\n",
       "      <td>NaN</td>\n",
       "    </tr>\n",
       "  </tbody>\n",
       "</table>\n",
       "<p>86 rows × 5 columns</p>\n",
       "</div>"
      ],
      "text/plain": [
       "       work_id                                              name  artist_id  \\\n",
       "853      27187               The Mother and Sister of the Artist        769   \n",
       "988     192414                             A Blustery Winter Day        636   \n",
       "1367    192390  Grainstacks at the End of Summer, Morning Effect        550   \n",
       "1961     27686                   Dancing Girls in Colourful Rays        824   \n",
       "4611    192400                                Black Bashi Bazouk        667   \n",
       "...        ...                                               ...        ...   \n",
       "14217   192403                         Olive Orchard (30\" x 24\")        677   \n",
       "14295   192376                          Starry Night (30\" x 24\")        677   \n",
       "14309   192411              Sunflowers, 12 in a Vase (26\" x 32\")        677   \n",
       "14311   192412              Sunflowers, 14 in a Vase (24\" x 30\")        677   \n",
       "14314   192410                            Sunflowers (24\" x 30\")        677   \n",
       "\n",
       "               style  museum_id  \n",
       "853    Impressionism       46.0  \n",
       "988              NaN        NaN  \n",
       "1367             NaN        NaN  \n",
       "1961   Expressionism        NaN  \n",
       "4611             NaN        NaN  \n",
       "...              ...        ...  \n",
       "14217            NaN        NaN  \n",
       "14295            NaN        NaN  \n",
       "14309            NaN        NaN  \n",
       "14311            NaN        NaN  \n",
       "14314            NaN        NaN  \n",
       "\n",
       "[86 rows x 5 columns]"
      ]
     },
     "execution_count": 39,
     "metadata": {},
     "output_type": "execute_result"
    }
   ],
   "source": [
    "unassociated_work_ids = work[~work['work_id'].isin(product_size['work_id'])]\n",
    "unassociated_work_ids"
   ]
  },
  {
   "cell_type": "markdown",
   "id": "846d8316-d8ce-4c90-8d8a-7470ec124d66",
   "metadata": {},
   "source": [
    "There are **86 work_ids not referenced in work** by the foreign key work_id in product_size."
   ]
  },
  {
   "cell_type": "markdown",
   "id": "c02b306a-eb83-4cef-8265-fe4883a4d7c2",
   "metadata": {},
   "source": [
    "Checking **product_size** and **canvas_size** table:"
   ]
  },
  {
   "cell_type": "code",
   "execution_count": 40,
   "id": "98049239-06de-4b93-bb0c-8b0cfc7104ca",
   "metadata": {},
   "outputs": [],
   "source": [
    "# Convert invalid size ids\n",
    "product_size[\"size_id\"] = product_size[\"size_id\"].replace(\"#VALUE!\", 0).astype(\"str\")\n",
    "\n",
    "# Convert decimal valued size ids\n",
    "product_size[\"size_id\"] = (\n",
    "    np.where(\n",
    "        product_size[\"size_id\"].str.contains(r\"\\d+\\.\\d+\"),\n",
    "        (product_size[\"size_id\"].astype(\"float64\") * 1000).astype(str),\n",
    "        product_size[\"size_id\"],\n",
    "    )\n",
    "    .astype(\"float64\")\n",
    "    .astype(\"int64\")\n",
    ")"
   ]
  },
  {
   "cell_type": "code",
   "execution_count": 41,
   "id": "c9f469f1-ffd7-4ba0-becb-5891c9373fd9",
   "metadata": {},
   "outputs": [
    {
     "data": {
      "text/html": [
       "<div>\n",
       "<style scoped>\n",
       "    .dataframe tbody tr th:only-of-type {\n",
       "        vertical-align: middle;\n",
       "    }\n",
       "\n",
       "    .dataframe tbody tr th {\n",
       "        vertical-align: top;\n",
       "    }\n",
       "\n",
       "    .dataframe thead th {\n",
       "        text-align: right;\n",
       "    }\n",
       "</style>\n",
       "<table border=\"1\" class=\"dataframe\">\n",
       "  <thead>\n",
       "    <tr style=\"text-align: right;\">\n",
       "      <th></th>\n",
       "      <th>work_id</th>\n",
       "      <th>size_id</th>\n",
       "      <th>sale_price</th>\n",
       "      <th>regular_price</th>\n",
       "    </tr>\n",
       "  </thead>\n",
       "  <tbody>\n",
       "    <tr>\n",
       "      <th>2452</th>\n",
       "      <td>208485</td>\n",
       "      <td>0</td>\n",
       "      <td>225</td>\n",
       "      <td>375</td>\n",
       "    </tr>\n",
       "    <tr>\n",
       "      <th>3858</th>\n",
       "      <td>6933</td>\n",
       "      <td>16222</td>\n",
       "      <td>255</td>\n",
       "      <td>425</td>\n",
       "    </tr>\n",
       "    <tr>\n",
       "      <th>3888</th>\n",
       "      <td>6937</td>\n",
       "      <td>28836</td>\n",
       "      <td>335</td>\n",
       "      <td>585</td>\n",
       "    </tr>\n",
       "    <tr>\n",
       "      <th>4424</th>\n",
       "      <td>25597</td>\n",
       "      <td>39532</td>\n",
       "      <td>375</td>\n",
       "      <td>675</td>\n",
       "    </tr>\n",
       "    <tr>\n",
       "      <th>7060</th>\n",
       "      <td>6018</td>\n",
       "      <td>0</td>\n",
       "      <td>295</td>\n",
       "      <td>515</td>\n",
       "    </tr>\n",
       "    <tr>\n",
       "      <th>...</th>\n",
       "      <td>...</td>\n",
       "      <td>...</td>\n",
       "      <td>...</td>\n",
       "      <td>...</td>\n",
       "    </tr>\n",
       "    <tr>\n",
       "      <th>107762</th>\n",
       "      <td>953</td>\n",
       "      <td>0</td>\n",
       "      <td>335</td>\n",
       "      <td>585</td>\n",
       "    </tr>\n",
       "    <tr>\n",
       "      <th>107772</th>\n",
       "      <td>955</td>\n",
       "      <td>0</td>\n",
       "      <td>275</td>\n",
       "      <td>465</td>\n",
       "    </tr>\n",
       "    <tr>\n",
       "      <th>107777</th>\n",
       "      <td>956</td>\n",
       "      <td>0</td>\n",
       "      <td>335</td>\n",
       "      <td>585</td>\n",
       "    </tr>\n",
       "    <tr>\n",
       "      <th>107790</th>\n",
       "      <td>957</td>\n",
       "      <td>35628</td>\n",
       "      <td>335</td>\n",
       "      <td>585</td>\n",
       "    </tr>\n",
       "    <tr>\n",
       "      <th>107823</th>\n",
       "      <td>960</td>\n",
       "      <td>3628600</td>\n",
       "      <td>335</td>\n",
       "      <td>585</td>\n",
       "    </tr>\n",
       "  </tbody>\n",
       "</table>\n",
       "<p>328 rows × 4 columns</p>\n",
       "</div>"
      ],
      "text/plain": [
       "        work_id  size_id  sale_price  regular_price\n",
       "2452     208485        0         225            375\n",
       "3858       6933    16222         255            425\n",
       "3888       6937    28836         335            585\n",
       "4424      25597    39532         375            675\n",
       "7060       6018        0         295            515\n",
       "...         ...      ...         ...            ...\n",
       "107762      953        0         335            585\n",
       "107772      955        0         275            465\n",
       "107777      956        0         335            585\n",
       "107790      957    35628         335            585\n",
       "107823      960  3628600         335            585\n",
       "\n",
       "[328 rows x 4 columns]"
      ]
     },
     "execution_count": 41,
     "metadata": {},
     "output_type": "execute_result"
    }
   ],
   "source": [
    "null_or_invalid_size_ids = product_size[~product_size['size_id'].isin(canvas_size['size_id'])]\n",
    "null_or_invalid_size_ids"
   ]
  },
  {
   "cell_type": "code",
   "execution_count": 42,
   "id": "684cb433-0b07-4bef-8317-d8685b684863",
   "metadata": {},
   "outputs": [
    {
     "data": {
      "text/plain": [
       "array([      0,   16222,   28836,   39532, 3628700,   32226, 3225500,\n",
       "         32426, 3239800, 2936500, 3225600, 3223700,   36329,   36432,\n",
       "         36532,   27326,   31944,   28525,   57745, 3225900, 2417800,\n",
       "       5136500, 5439400,   22430,   26232,   50635,   39632, 3225800,\n",
       "         35652, 4235500, 5062600, 2823200, 2419700,   25632,   37428,\n",
       "       2921700, 2921500, 2639800,   32250,   31525, 5936200, 2923600,\n",
       "       2923700,   25732, 2632100,   57542, 3536500,   38531, 5691200,\n",
       "       3225700,   32326,   39526,   23529, 4023700,   36429,   36326,\n",
       "         36829,   32524,   36529,   39435,   79163,   36626, 3239400,\n",
       "         39429, 5844900, 3239200,   57545,   25832,   32332,   28824,\n",
       "       3628600, 4635400, 2632300,   50465, 4835800,   19524,   28936,\n",
       "       3628500,   44534, 3628800,   45835,   28537,   32125,   28724,\n",
       "       3729300,   37530,   29137, 3527600, 2227200, 3123600, 3729900,\n",
       "         26332, 2936600,   35628], dtype=int64)"
      ]
     },
     "execution_count": 42,
     "metadata": {},
     "output_type": "execute_result"
    }
   ],
   "source": [
    "null_or_invalid_size_ids['size_id'].unique()"
   ]
  },
  {
   "cell_type": "markdown",
   "id": "e93e762e-e0d4-40da-b268-f116c4044b73",
   "metadata": {},
   "source": [
    "There are **328 invalid size_ids** in product_size, which correspond to the decimal and '#VALUES' valued ids seen above."
   ]
  },
  {
   "cell_type": "code",
   "execution_count": 43,
   "id": "ce5b6b57-9e8a-44ad-9d5a-c06b398b7c6f",
   "metadata": {},
   "outputs": [
    {
     "data": {
      "text/html": [
       "<div>\n",
       "<style scoped>\n",
       "    .dataframe tbody tr th:only-of-type {\n",
       "        vertical-align: middle;\n",
       "    }\n",
       "\n",
       "    .dataframe tbody tr th {\n",
       "        vertical-align: top;\n",
       "    }\n",
       "\n",
       "    .dataframe thead th {\n",
       "        text-align: right;\n",
       "    }\n",
       "</style>\n",
       "<table border=\"1\" class=\"dataframe\">\n",
       "  <thead>\n",
       "    <tr style=\"text-align: right;\">\n",
       "      <th></th>\n",
       "      <th>size_id</th>\n",
       "      <th>width</th>\n",
       "      <th>height</th>\n",
       "      <th>label</th>\n",
       "    </tr>\n",
       "  </thead>\n",
       "  <tbody>\n",
       "    <tr>\n",
       "      <th>7</th>\n",
       "      <td>1522</td>\n",
       "      <td>15</td>\n",
       "      <td>22.0</td>\n",
       "      <td>15\" x 22\"(38 cm x 56 cm)</td>\n",
       "    </tr>\n",
       "    <tr>\n",
       "      <th>8</th>\n",
       "      <td>1618</td>\n",
       "      <td>16</td>\n",
       "      <td>18.0</td>\n",
       "      <td>16\" x 18\"(41 cm x 46 cm)</td>\n",
       "    </tr>\n",
       "    <tr>\n",
       "      <th>10</th>\n",
       "      <td>1623</td>\n",
       "      <td>16</td>\n",
       "      <td>23.0</td>\n",
       "      <td>16\" x 23\"(41 cm x 58 cm)</td>\n",
       "    </tr>\n",
       "    <tr>\n",
       "      <th>13</th>\n",
       "      <td>1826</td>\n",
       "      <td>18</td>\n",
       "      <td>26.0</td>\n",
       "      <td>18\" x 26\"(46 cm x 66 cm)</td>\n",
       "    </tr>\n",
       "    <tr>\n",
       "      <th>14</th>\n",
       "      <td>1926</td>\n",
       "      <td>19</td>\n",
       "      <td>26.0</td>\n",
       "      <td>19\" x 26\"(48 cm x 66 cm)</td>\n",
       "    </tr>\n",
       "    <tr>\n",
       "      <th>...</th>\n",
       "      <td>...</td>\n",
       "      <td>...</td>\n",
       "      <td>...</td>\n",
       "      <td>...</td>\n",
       "    </tr>\n",
       "    <tr>\n",
       "      <th>193</th>\n",
       "      <td>7940</td>\n",
       "      <td>79</td>\n",
       "      <td>40.0</td>\n",
       "      <td>79\" x 40\"(201 cm x 102 cm)</td>\n",
       "    </tr>\n",
       "    <tr>\n",
       "      <th>194</th>\n",
       "      <td>7955</td>\n",
       "      <td>79</td>\n",
       "      <td>55.0</td>\n",
       "      <td>79\" x 55\"(201 cm x 140 cm)</td>\n",
       "    </tr>\n",
       "    <tr>\n",
       "      <th>195</th>\n",
       "      <td>7963</td>\n",
       "      <td>79</td>\n",
       "      <td>63.0</td>\n",
       "      <td>79\" x 63\"(201 cm x 160 cm)</td>\n",
       "    </tr>\n",
       "    <tr>\n",
       "      <th>197</th>\n",
       "      <td>8051</td>\n",
       "      <td>80</td>\n",
       "      <td>51.0</td>\n",
       "      <td>80\" x 51\"(203 cm x 130 cm)</td>\n",
       "    </tr>\n",
       "    <tr>\n",
       "      <th>198</th>\n",
       "      <td>8959</td>\n",
       "      <td>89</td>\n",
       "      <td>59.0</td>\n",
       "      <td>89\" x 59\"(226 cm x 150 cm)</td>\n",
       "    </tr>\n",
       "  </tbody>\n",
       "</table>\n",
       "<p>130 rows × 4 columns</p>\n",
       "</div>"
      ],
      "text/plain": [
       "     size_id  width  height                       label\n",
       "7       1522     15    22.0    15\" x 22\"(38 cm x 56 cm)\n",
       "8       1618     16    18.0    16\" x 18\"(41 cm x 46 cm)\n",
       "10      1623     16    23.0    16\" x 23\"(41 cm x 58 cm)\n",
       "13      1826     18    26.0    18\" x 26\"(46 cm x 66 cm)\n",
       "14      1926     19    26.0    19\" x 26\"(48 cm x 66 cm)\n",
       "..       ...    ...     ...                         ...\n",
       "193     7940     79    40.0  79\" x 40\"(201 cm x 102 cm)\n",
       "194     7955     79    55.0  79\" x 55\"(201 cm x 140 cm)\n",
       "195     7963     79    63.0  79\" x 63\"(201 cm x 160 cm)\n",
       "197     8051     80    51.0  80\" x 51\"(203 cm x 130 cm)\n",
       "198     8959     89    59.0  89\" x 59\"(226 cm x 150 cm)\n",
       "\n",
       "[130 rows x 4 columns]"
      ]
     },
     "execution_count": 43,
     "metadata": {},
     "output_type": "execute_result"
    }
   ],
   "source": [
    "unassociated_size_ids = canvas_size[~canvas_size['size_id'].isin(product_size['size_id'])]\n",
    "unassociated_size_ids"
   ]
  },
  {
   "cell_type": "markdown",
   "id": "07759101-583e-4a7a-8454-b421657d32e9",
   "metadata": {},
   "source": [
    "There are **130 size_ids not referenced in canvas_size** by the foreign key size_id in product_size."
   ]
  }
 ],
 "metadata": {
  "kernelspec": {
   "display_name": "Python 3 (ipykernel)",
   "language": "python",
   "name": "python3"
  },
  "language_info": {
   "codemirror_mode": {
    "name": "ipython",
    "version": 3
   },
   "file_extension": ".py",
   "mimetype": "text/x-python",
   "name": "python",
   "nbconvert_exporter": "python",
   "pygments_lexer": "ipython3",
   "version": "3.11.3"
  }
 },
 "nbformat": 4,
 "nbformat_minor": 5
}
